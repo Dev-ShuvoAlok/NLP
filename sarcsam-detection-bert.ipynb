{
 "cells": [
  {
   "cell_type": "code",
   "execution_count": 1,
   "id": "b4e3b52d",
   "metadata": {
    "execution": {
     "iopub.execute_input": "2022-12-31T23:36:45.604657Z",
     "iopub.status.busy": "2022-12-31T23:36:45.603688Z",
     "iopub.status.idle": "2022-12-31T23:36:46.928317Z",
     "shell.execute_reply": "2022-12-31T23:36:46.927062Z"
    },
    "papermill": {
     "duration": 1.337056,
     "end_time": "2022-12-31T23:36:46.931162",
     "exception": false,
     "start_time": "2022-12-31T23:36:45.594106",
     "status": "completed"
    },
    "tags": []
   },
   "outputs": [],
   "source": [
    "# import BERT tokenization\n",
    "\n",
    "!wget --quiet https://raw.githubusercontent.com/tensorflow/models/master/official/nlp/bert/tokenization.py"
   ]
  },
  {
   "cell_type": "code",
   "execution_count": 2,
   "id": "4b09511a",
   "metadata": {
    "execution": {
     "iopub.execute_input": "2022-12-31T23:36:46.947266Z",
     "iopub.status.busy": "2022-12-31T23:36:46.946938Z",
     "iopub.status.idle": "2022-12-31T23:36:57.210945Z",
     "shell.execute_reply": "2022-12-31T23:36:57.209902Z"
    },
    "papermill": {
     "duration": 10.274878,
     "end_time": "2022-12-31T23:36:57.213555",
     "exception": false,
     "start_time": "2022-12-31T23:36:46.938677",
     "status": "completed"
    },
    "tags": []
   },
   "outputs": [],
   "source": [
    "import os\n",
    "import re\n",
    "import pickle\n",
    "import numpy as np \n",
    "import pandas as pd \n",
    "import matplotlib.pyplot as plt\n",
    "from tensorflow.python.keras.preprocessing.text import Tokenizer\n",
    "from tensorflow.python.keras.preprocessing.sequence import pad_sequences\n",
    "from keras.models import Sequential\n",
    "from keras.layers import Dense, Embedding, GRU, LSTM, Bidirectional\n",
    "from keras.layers.embeddings import Embedding\n",
    "from keras.initializers import Constant\n",
    "from keras.callbacks import ModelCheckpoint\n",
    "from keras.models import load_model"
   ]
  },
  {
   "cell_type": "code",
   "execution_count": 3,
   "id": "ac2ce9c1",
   "metadata": {
    "execution": {
     "iopub.execute_input": "2022-12-31T23:36:57.231818Z",
     "iopub.status.busy": "2022-12-31T23:36:57.231260Z",
     "iopub.status.idle": "2022-12-31T23:36:57.607750Z",
     "shell.execute_reply": "2022-12-31T23:36:57.606748Z"
    },
    "papermill": {
     "duration": 0.388117,
     "end_time": "2022-12-31T23:36:57.610464",
     "exception": false,
     "start_time": "2022-12-31T23:36:57.222347",
     "status": "completed"
    },
    "tags": []
   },
   "outputs": [
    {
     "data": {
      "text/html": [
       "<div>\n",
       "<style scoped>\n",
       "    .dataframe tbody tr th:only-of-type {\n",
       "        vertical-align: middle;\n",
       "    }\n",
       "\n",
       "    .dataframe tbody tr th {\n",
       "        vertical-align: top;\n",
       "    }\n",
       "\n",
       "    .dataframe thead th {\n",
       "        text-align: right;\n",
       "    }\n",
       "</style>\n",
       "<table border=\"1\" class=\"dataframe\">\n",
       "  <thead>\n",
       "    <tr style=\"text-align: right;\">\n",
       "      <th></th>\n",
       "      <th>article_link</th>\n",
       "      <th>headline</th>\n",
       "      <th>is_sarcastic</th>\n",
       "    </tr>\n",
       "  </thead>\n",
       "  <tbody>\n",
       "    <tr>\n",
       "      <th>0</th>\n",
       "      <td>https://www.huffingtonpost.com/entry/versace-b...</td>\n",
       "      <td>former versace store clerk sues over secret 'b...</td>\n",
       "      <td>0</td>\n",
       "    </tr>\n",
       "    <tr>\n",
       "      <th>1</th>\n",
       "      <td>https://www.huffingtonpost.com/entry/roseanne-...</td>\n",
       "      <td>the 'roseanne' revival catches up to our thorn...</td>\n",
       "      <td>0</td>\n",
       "    </tr>\n",
       "    <tr>\n",
       "      <th>2</th>\n",
       "      <td>https://local.theonion.com/mom-starting-to-fea...</td>\n",
       "      <td>mom starting to fear son's web series closest ...</td>\n",
       "      <td>1</td>\n",
       "    </tr>\n",
       "    <tr>\n",
       "      <th>3</th>\n",
       "      <td>https://politics.theonion.com/boehner-just-wan...</td>\n",
       "      <td>boehner just wants wife to listen, not come up...</td>\n",
       "      <td>1</td>\n",
       "    </tr>\n",
       "    <tr>\n",
       "      <th>4</th>\n",
       "      <td>https://www.huffingtonpost.com/entry/jk-rowlin...</td>\n",
       "      <td>j.k. rowling wishes snape happy birthday in th...</td>\n",
       "      <td>0</td>\n",
       "    </tr>\n",
       "  </tbody>\n",
       "</table>\n",
       "</div>"
      ],
      "text/plain": [
       "                                        article_link  \\\n",
       "0  https://www.huffingtonpost.com/entry/versace-b...   \n",
       "1  https://www.huffingtonpost.com/entry/roseanne-...   \n",
       "2  https://local.theonion.com/mom-starting-to-fea...   \n",
       "3  https://politics.theonion.com/boehner-just-wan...   \n",
       "4  https://www.huffingtonpost.com/entry/jk-rowlin...   \n",
       "\n",
       "                                            headline  is_sarcastic  \n",
       "0  former versace store clerk sues over secret 'b...             0  \n",
       "1  the 'roseanne' revival catches up to our thorn...             0  \n",
       "2  mom starting to fear son's web series closest ...             1  \n",
       "3  boehner just wants wife to listen, not come up...             1  \n",
       "4  j.k. rowling wishes snape happy birthday in th...             0  "
      ]
     },
     "execution_count": 3,
     "metadata": {},
     "output_type": "execute_result"
    }
   ],
   "source": [
    "data_1 = pd.read_json(\"/kaggle/input/sarcasm-detection/Sarcasm_Headlines_Dataset.json\", lines=True)\n",
    "data_2 = pd.read_json(\"/kaggle/input/sarcasm-detection/Sarcasm_Headlines_Dataset_v2.json\", lines=True)\n",
    "df =  pd.concat([data_1, data_2])\n",
    "df.head()"
   ]
  },
  {
   "cell_type": "code",
   "execution_count": 4,
   "id": "9279ebc7",
   "metadata": {
    "execution": {
     "iopub.execute_input": "2022-12-31T23:36:57.626426Z",
     "iopub.status.busy": "2022-12-31T23:36:57.625572Z",
     "iopub.status.idle": "2022-12-31T23:36:57.641729Z",
     "shell.execute_reply": "2022-12-31T23:36:57.640723Z"
    },
    "papermill": {
     "duration": 0.026345,
     "end_time": "2022-12-31T23:36:57.643952",
     "exception": false,
     "start_time": "2022-12-31T23:36:57.617607",
     "status": "completed"
    },
    "tags": []
   },
   "outputs": [
    {
     "data": {
      "text/html": [
       "<div>\n",
       "<style scoped>\n",
       "    .dataframe tbody tr th:only-of-type {\n",
       "        vertical-align: middle;\n",
       "    }\n",
       "\n",
       "    .dataframe tbody tr th {\n",
       "        vertical-align: top;\n",
       "    }\n",
       "\n",
       "    .dataframe thead th {\n",
       "        text-align: right;\n",
       "    }\n",
       "</style>\n",
       "<table border=\"1\" class=\"dataframe\">\n",
       "  <thead>\n",
       "    <tr style=\"text-align: right;\">\n",
       "      <th></th>\n",
       "      <th>article_link</th>\n",
       "      <th>headline</th>\n",
       "      <th>is_sarcastic</th>\n",
       "    </tr>\n",
       "  </thead>\n",
       "  <tbody>\n",
       "    <tr>\n",
       "      <th>19411</th>\n",
       "      <td>https://www.huffingtonpost.com/entry/scary-lan...</td>\n",
       "      <td>airplane's terrifying landing may put you off ...</td>\n",
       "      <td>0</td>\n",
       "    </tr>\n",
       "    <tr>\n",
       "      <th>4341</th>\n",
       "      <td>https://local.theonion.com/teary-eyed-student-...</td>\n",
       "      <td>teary-eyed student loan officers proudly watch...</td>\n",
       "      <td>1</td>\n",
       "    </tr>\n",
       "    <tr>\n",
       "      <th>24164</th>\n",
       "      <td>https://entertainment.theonion.com/meg-white-d...</td>\n",
       "      <td>meg white drum solo maintains steady beat for ...</td>\n",
       "      <td>1</td>\n",
       "    </tr>\n",
       "    <tr>\n",
       "      <th>3075</th>\n",
       "      <td>https://www.huffingtonpost.com/entry/eric-garn...</td>\n",
       "      <td>thousands march in nyc to protest chokehold death</td>\n",
       "      <td>0</td>\n",
       "    </tr>\n",
       "    <tr>\n",
       "      <th>12950</th>\n",
       "      <td>https://local.theonion.com/secretary-cracks-un...</td>\n",
       "      <td>secretary cracks under administration of third...</td>\n",
       "      <td>1</td>\n",
       "    </tr>\n",
       "  </tbody>\n",
       "</table>\n",
       "</div>"
      ],
      "text/plain": [
       "                                            article_link  \\\n",
       "19411  https://www.huffingtonpost.com/entry/scary-lan...   \n",
       "4341   https://local.theonion.com/teary-eyed-student-...   \n",
       "24164  https://entertainment.theonion.com/meg-white-d...   \n",
       "3075   https://www.huffingtonpost.com/entry/eric-garn...   \n",
       "12950  https://local.theonion.com/secretary-cracks-un...   \n",
       "\n",
       "                                                headline  is_sarcastic  \n",
       "19411  airplane's terrifying landing may put you off ...             0  \n",
       "4341   teary-eyed student loan officers proudly watch...             1  \n",
       "24164  meg white drum solo maintains steady beat for ...             1  \n",
       "3075   thousands march in nyc to protest chokehold death             0  \n",
       "12950  secretary cracks under administration of third...             1  "
      ]
     },
     "execution_count": 4,
     "metadata": {},
     "output_type": "execute_result"
    }
   ],
   "source": [
    "df = df.sample(frac = 1)\n",
    "df.head()"
   ]
  },
  {
   "cell_type": "code",
   "execution_count": 5,
   "id": "fde690ac",
   "metadata": {
    "execution": {
     "iopub.execute_input": "2022-12-31T23:36:57.660547Z",
     "iopub.status.busy": "2022-12-31T23:36:57.659595Z",
     "iopub.status.idle": "2022-12-31T23:36:57.665434Z",
     "shell.execute_reply": "2022-12-31T23:36:57.664372Z"
    },
    "papermill": {
     "duration": 0.016978,
     "end_time": "2022-12-31T23:36:57.668391",
     "exception": false,
     "start_time": "2022-12-31T23:36:57.651413",
     "status": "completed"
    },
    "tags": []
   },
   "outputs": [
    {
     "name": "stdout",
     "output_type": "stream",
     "text": [
      "55328\n",
      "38729\n"
     ]
    }
   ],
   "source": [
    "print(len(df))\n",
    "split_length=int(0.7 *len(df))  \n",
    "print(split_length)"
   ]
  },
  {
   "cell_type": "code",
   "execution_count": 6,
   "id": "fe777509",
   "metadata": {
    "execution": {
     "iopub.execute_input": "2022-12-31T23:36:57.686130Z",
     "iopub.status.busy": "2022-12-31T23:36:57.685247Z",
     "iopub.status.idle": "2022-12-31T23:37:10.897272Z",
     "shell.execute_reply": "2022-12-31T23:37:10.895710Z"
    },
    "papermill": {
     "duration": 13.222761,
     "end_time": "2022-12-31T23:37:10.899758",
     "exception": false,
     "start_time": "2022-12-31T23:36:57.676997",
     "status": "completed"
    },
    "tags": []
   },
   "outputs": [
    {
     "name": "stdout",
     "output_type": "stream",
     "text": [
      "Collecting tokenization\r\n",
      "  Downloading tokenization-1.0.7-py3-none-any.whl (10 kB)\r\n",
      "Requirement already satisfied: regex in /opt/conda/lib/python3.7/site-packages (from tokenization) (2021.11.10)\r\n",
      "Installing collected packages: tokenization\r\n",
      "Successfully installed tokenization-1.0.7\r\n",
      "\u001b[33mWARNING: Running pip as the 'root' user can result in broken permissions and conflicting behaviour with the system package manager. It is recommended to use a virtual environment instead: https://pip.pypa.io/warnings/venv\u001b[0m\u001b[33m\r\n",
      "\u001b[0mNote: you may need to restart the kernel to use updated packages.\n"
     ]
    }
   ],
   "source": [
    "pip install tokenization"
   ]
  },
  {
   "cell_type": "code",
   "execution_count": 7,
   "id": "3b6053a4",
   "metadata": {
    "execution": {
     "iopub.execute_input": "2022-12-31T23:37:10.917615Z",
     "iopub.status.busy": "2022-12-31T23:37:10.917282Z",
     "iopub.status.idle": "2022-12-31T23:37:13.176761Z",
     "shell.execute_reply": "2022-12-31T23:37:13.175822Z"
    },
    "papermill": {
     "duration": 2.271859,
     "end_time": "2022-12-31T23:37:13.179943",
     "exception": false,
     "start_time": "2022-12-31T23:37:10.908084",
     "status": "completed"
    },
    "tags": []
   },
   "outputs": [],
   "source": [
    "import tokenization\n",
    "import tensorflow as tf\n",
    "import tensorflow_hub as hub\n",
    "from tensorflow.keras.utils import to_categorical\n",
    "from sklearn import preprocessing\n",
    "# from sklearn.model_selection import train_test_split"
   ]
  },
  {
   "cell_type": "code",
   "execution_count": 8,
   "id": "fd57cc0d",
   "metadata": {
    "execution": {
     "iopub.execute_input": "2022-12-31T23:37:13.205984Z",
     "iopub.status.busy": "2022-12-31T23:37:13.205602Z",
     "iopub.status.idle": "2022-12-31T23:37:13.210834Z",
     "shell.execute_reply": "2022-12-31T23:37:13.209899Z"
    },
    "papermill": {
     "duration": 0.02247,
     "end_time": "2022-12-31T23:37:13.215189",
     "exception": false,
     "start_time": "2022-12-31T23:37:13.192719",
     "status": "completed"
    },
    "tags": []
   },
   "outputs": [],
   "source": [
    "train_data = df[:-split_length]\n",
    "test_data = df[-split_length:]"
   ]
  },
  {
   "cell_type": "code",
   "execution_count": 9,
   "id": "622a5aa4",
   "metadata": {
    "execution": {
     "iopub.execute_input": "2022-12-31T23:37:13.240297Z",
     "iopub.status.busy": "2022-12-31T23:37:13.239919Z",
     "iopub.status.idle": "2022-12-31T23:37:13.255869Z",
     "shell.execute_reply": "2022-12-31T23:37:13.255060Z"
    },
    "papermill": {
     "duration": 0.031326,
     "end_time": "2022-12-31T23:37:13.258539",
     "exception": false,
     "start_time": "2022-12-31T23:37:13.227213",
     "status": "completed"
    },
    "tags": []
   },
   "outputs": [
    {
     "data": {
      "text/html": [
       "<div>\n",
       "<style scoped>\n",
       "    .dataframe tbody tr th:only-of-type {\n",
       "        vertical-align: middle;\n",
       "    }\n",
       "\n",
       "    .dataframe tbody tr th {\n",
       "        vertical-align: top;\n",
       "    }\n",
       "\n",
       "    .dataframe thead th {\n",
       "        text-align: right;\n",
       "    }\n",
       "</style>\n",
       "<table border=\"1\" class=\"dataframe\">\n",
       "  <thead>\n",
       "    <tr style=\"text-align: right;\">\n",
       "      <th></th>\n",
       "      <th>article_link</th>\n",
       "      <th>headline</th>\n",
       "      <th>is_sarcastic</th>\n",
       "    </tr>\n",
       "  </thead>\n",
       "  <tbody>\n",
       "    <tr>\n",
       "      <th>19411</th>\n",
       "      <td>https://www.huffingtonpost.com/entry/scary-lan...</td>\n",
       "      <td>airplane's terrifying landing may put you off ...</td>\n",
       "      <td>0</td>\n",
       "    </tr>\n",
       "    <tr>\n",
       "      <th>4341</th>\n",
       "      <td>https://local.theonion.com/teary-eyed-student-...</td>\n",
       "      <td>teary-eyed student loan officers proudly watch...</td>\n",
       "      <td>1</td>\n",
       "    </tr>\n",
       "    <tr>\n",
       "      <th>24164</th>\n",
       "      <td>https://entertainment.theonion.com/meg-white-d...</td>\n",
       "      <td>meg white drum solo maintains steady beat for ...</td>\n",
       "      <td>1</td>\n",
       "    </tr>\n",
       "    <tr>\n",
       "      <th>3075</th>\n",
       "      <td>https://www.huffingtonpost.com/entry/eric-garn...</td>\n",
       "      <td>thousands march in nyc to protest chokehold death</td>\n",
       "      <td>0</td>\n",
       "    </tr>\n",
       "    <tr>\n",
       "      <th>12950</th>\n",
       "      <td>https://local.theonion.com/secretary-cracks-un...</td>\n",
       "      <td>secretary cracks under administration of third...</td>\n",
       "      <td>1</td>\n",
       "    </tr>\n",
       "  </tbody>\n",
       "</table>\n",
       "</div>"
      ],
      "text/plain": [
       "                                            article_link  \\\n",
       "19411  https://www.huffingtonpost.com/entry/scary-lan...   \n",
       "4341   https://local.theonion.com/teary-eyed-student-...   \n",
       "24164  https://entertainment.theonion.com/meg-white-d...   \n",
       "3075   https://www.huffingtonpost.com/entry/eric-garn...   \n",
       "12950  https://local.theonion.com/secretary-cracks-un...   \n",
       "\n",
       "                                                headline  is_sarcastic  \n",
       "19411  airplane's terrifying landing may put you off ...             0  \n",
       "4341   teary-eyed student loan officers proudly watch...             1  \n",
       "24164  meg white drum solo maintains steady beat for ...             1  \n",
       "3075   thousands march in nyc to protest chokehold death             0  \n",
       "12950  secretary cracks under administration of third...             1  "
      ]
     },
     "execution_count": 9,
     "metadata": {},
     "output_type": "execute_result"
    }
   ],
   "source": [
    "train_data.head()"
   ]
  },
  {
   "cell_type": "code",
   "execution_count": 10,
   "id": "7afad9a7",
   "metadata": {
    "execution": {
     "iopub.execute_input": "2022-12-31T23:37:13.293043Z",
     "iopub.status.busy": "2022-12-31T23:37:13.292591Z",
     "iopub.status.idle": "2022-12-31T23:37:13.302677Z",
     "shell.execute_reply": "2022-12-31T23:37:13.301701Z"
    },
    "papermill": {
     "duration": 0.037853,
     "end_time": "2022-12-31T23:37:13.309074",
     "exception": false,
     "start_time": "2022-12-31T23:37:13.271221",
     "status": "completed"
    },
    "tags": []
   },
   "outputs": [
    {
     "data": {
      "text/html": [
       "<div>\n",
       "<style scoped>\n",
       "    .dataframe tbody tr th:only-of-type {\n",
       "        vertical-align: middle;\n",
       "    }\n",
       "\n",
       "    .dataframe tbody tr th {\n",
       "        vertical-align: top;\n",
       "    }\n",
       "\n",
       "    .dataframe thead th {\n",
       "        text-align: right;\n",
       "    }\n",
       "</style>\n",
       "<table border=\"1\" class=\"dataframe\">\n",
       "  <thead>\n",
       "    <tr style=\"text-align: right;\">\n",
       "      <th></th>\n",
       "      <th>article_link</th>\n",
       "      <th>headline</th>\n",
       "      <th>is_sarcastic</th>\n",
       "    </tr>\n",
       "  </thead>\n",
       "  <tbody>\n",
       "    <tr>\n",
       "      <th>18487</th>\n",
       "      <td>https://local.theonion.com/whos-this-little-gu...</td>\n",
       "      <td>who's this little guy?</td>\n",
       "      <td>1</td>\n",
       "    </tr>\n",
       "    <tr>\n",
       "      <th>21479</th>\n",
       "      <td>https://www.huffingtonpost.com/entry/baltimore...</td>\n",
       "      <td>thousands protest peacefully in baltimore, and...</td>\n",
       "      <td>0</td>\n",
       "    </tr>\n",
       "    <tr>\n",
       "      <th>22860</th>\n",
       "      <td>https://www.huffingtonpost.com/entry/bernie-sa...</td>\n",
       "      <td>why bernie sanders is in deep trouble in south...</td>\n",
       "      <td>0</td>\n",
       "    </tr>\n",
       "    <tr>\n",
       "      <th>4200</th>\n",
       "      <td>https://local.theonion.com/uptight-matron-enjo...</td>\n",
       "      <td>uptight matron enjoys handful of pills</td>\n",
       "      <td>1</td>\n",
       "    </tr>\n",
       "    <tr>\n",
       "      <th>7400</th>\n",
       "      <td>https://www.theonion.com/nypd-offering-no-ques...</td>\n",
       "      <td>nypd offering no-questions-asked dvd drop-off</td>\n",
       "      <td>1</td>\n",
       "    </tr>\n",
       "  </tbody>\n",
       "</table>\n",
       "</div>"
      ],
      "text/plain": [
       "                                            article_link  \\\n",
       "18487  https://local.theonion.com/whos-this-little-gu...   \n",
       "21479  https://www.huffingtonpost.com/entry/baltimore...   \n",
       "22860  https://www.huffingtonpost.com/entry/bernie-sa...   \n",
       "4200   https://local.theonion.com/uptight-matron-enjo...   \n",
       "7400   https://www.theonion.com/nypd-offering-no-ques...   \n",
       "\n",
       "                                                headline  is_sarcastic  \n",
       "18487                             who's this little guy?             1  \n",
       "21479  thousands protest peacefully in baltimore, and...             0  \n",
       "22860  why bernie sanders is in deep trouble in south...             0  \n",
       "4200              uptight matron enjoys handful of pills             1  \n",
       "7400       nypd offering no-questions-asked dvd drop-off             1  "
      ]
     },
     "execution_count": 10,
     "metadata": {},
     "output_type": "execute_result"
    }
   ],
   "source": [
    "test_data.head()"
   ]
  },
  {
   "cell_type": "markdown",
   "id": "509bde24",
   "metadata": {
    "papermill": {
     "duration": 0.008668,
     "end_time": "2022-12-31T23:37:13.334139",
     "exception": false,
     "start_time": "2022-12-31T23:37:13.325471",
     "status": "completed"
    },
    "tags": []
   },
   "source": [
    "**Label encoding of labels**"
   ]
  },
  {
   "cell_type": "code",
   "execution_count": 11,
   "id": "3145693f",
   "metadata": {
    "execution": {
     "iopub.execute_input": "2022-12-31T23:37:13.352533Z",
     "iopub.status.busy": "2022-12-31T23:37:13.352258Z",
     "iopub.status.idle": "2022-12-31T23:37:13.358361Z",
     "shell.execute_reply": "2022-12-31T23:37:13.357306Z"
    },
    "papermill": {
     "duration": 0.018665,
     "end_time": "2022-12-31T23:37:13.361563",
     "exception": false,
     "start_time": "2022-12-31T23:37:13.342898",
     "status": "completed"
    },
    "tags": []
   },
   "outputs": [
    {
     "name": "stdout",
     "output_type": "stream",
     "text": [
      "19411    0\n",
      "4341     1\n",
      "24164    1\n",
      "3075     0\n",
      "12950    1\n",
      "Name: is_sarcastic, dtype: int64\n"
     ]
    }
   ],
   "source": [
    "# label = preprocessing.LabelEncoder()\n",
    "# y = label.fit_transform(train_data['is_sarcastic'])\n",
    "# y = to_categorical(y)\n",
    "# print(y[:5])\n",
    "y = train_data['is_sarcastic']\n",
    "print(y[:5])\n"
   ]
  },
  {
   "cell_type": "markdown",
   "id": "9ea46965",
   "metadata": {
    "papermill": {
     "duration": 0.00809,
     "end_time": "2022-12-31T23:37:13.378443",
     "exception": false,
     "start_time": "2022-12-31T23:37:13.370353",
     "status": "completed"
    },
    "tags": []
   },
   "source": [
    "**Build a BERT layer**"
   ]
  },
  {
   "cell_type": "markdown",
   "id": "ed6339d9",
   "metadata": {
    "papermill": {
     "duration": 0.008073,
     "end_time": "2022-12-31T23:37:13.394809",
     "exception": false,
     "start_time": "2022-12-31T23:37:13.386736",
     "status": "completed"
    },
    "tags": []
   },
   "source": [
    "we create a BERT embedding layer by importing the BERT model from hub.KerasLayer"
   ]
  },
  {
   "cell_type": "code",
   "execution_count": 12,
   "id": "3942f31d",
   "metadata": {
    "execution": {
     "iopub.execute_input": "2022-12-31T23:37:13.412708Z",
     "iopub.status.busy": "2022-12-31T23:37:13.412404Z",
     "iopub.status.idle": "2022-12-31T23:37:28.107668Z",
     "shell.execute_reply": "2022-12-31T23:37:28.106674Z"
    },
    "papermill": {
     "duration": 14.707145,
     "end_time": "2022-12-31T23:37:28.110342",
     "exception": false,
     "start_time": "2022-12-31T23:37:13.403197",
     "status": "completed"
    },
    "tags": []
   },
   "outputs": [
    {
     "name": "stderr",
     "output_type": "stream",
     "text": [
      "2022-12-31 23:37:17.831954: I tensorflow/stream_executor/cuda/cuda_gpu_executor.cc:937] successful NUMA node read from SysFS had negative value (-1), but there must be at least one NUMA node, so returning NUMA node zero\n",
      "2022-12-31 23:37:17.832971: I tensorflow/stream_executor/cuda/cuda_gpu_executor.cc:937] successful NUMA node read from SysFS had negative value (-1), but there must be at least one NUMA node, so returning NUMA node zero\n",
      "2022-12-31 23:37:18.125160: I tensorflow/stream_executor/cuda/cuda_gpu_executor.cc:937] successful NUMA node read from SysFS had negative value (-1), but there must be at least one NUMA node, so returning NUMA node zero\n",
      "2022-12-31 23:37:18.126092: I tensorflow/stream_executor/cuda/cuda_gpu_executor.cc:937] successful NUMA node read from SysFS had negative value (-1), but there must be at least one NUMA node, so returning NUMA node zero\n",
      "2022-12-31 23:37:18.126900: I tensorflow/stream_executor/cuda/cuda_gpu_executor.cc:937] successful NUMA node read from SysFS had negative value (-1), but there must be at least one NUMA node, so returning NUMA node zero\n",
      "2022-12-31 23:37:18.127693: I tensorflow/stream_executor/cuda/cuda_gpu_executor.cc:937] successful NUMA node read from SysFS had negative value (-1), but there must be at least one NUMA node, so returning NUMA node zero\n",
      "2022-12-31 23:37:18.130012: I tensorflow/core/platform/cpu_feature_guard.cc:142] This TensorFlow binary is optimized with oneAPI Deep Neural Network Library (oneDNN) to use the following CPU instructions in performance-critical operations:  AVX2 AVX512F FMA\n",
      "To enable them in other operations, rebuild TensorFlow with the appropriate compiler flags.\n",
      "2022-12-31 23:37:18.389040: I tensorflow/stream_executor/cuda/cuda_gpu_executor.cc:937] successful NUMA node read from SysFS had negative value (-1), but there must be at least one NUMA node, so returning NUMA node zero\n",
      "2022-12-31 23:37:18.389903: I tensorflow/stream_executor/cuda/cuda_gpu_executor.cc:937] successful NUMA node read from SysFS had negative value (-1), but there must be at least one NUMA node, so returning NUMA node zero\n",
      "2022-12-31 23:37:18.390720: I tensorflow/stream_executor/cuda/cuda_gpu_executor.cc:937] successful NUMA node read from SysFS had negative value (-1), but there must be at least one NUMA node, so returning NUMA node zero\n",
      "2022-12-31 23:37:18.391468: I tensorflow/stream_executor/cuda/cuda_gpu_executor.cc:937] successful NUMA node read from SysFS had negative value (-1), but there must be at least one NUMA node, so returning NUMA node zero\n",
      "2022-12-31 23:37:18.392219: I tensorflow/stream_executor/cuda/cuda_gpu_executor.cc:937] successful NUMA node read from SysFS had negative value (-1), but there must be at least one NUMA node, so returning NUMA node zero\n",
      "2022-12-31 23:37:18.393019: I tensorflow/stream_executor/cuda/cuda_gpu_executor.cc:937] successful NUMA node read from SysFS had negative value (-1), but there must be at least one NUMA node, so returning NUMA node zero\n",
      "2022-12-31 23:37:22.969791: I tensorflow/stream_executor/cuda/cuda_gpu_executor.cc:937] successful NUMA node read from SysFS had negative value (-1), but there must be at least one NUMA node, so returning NUMA node zero\n",
      "2022-12-31 23:37:22.970932: I tensorflow/stream_executor/cuda/cuda_gpu_executor.cc:937] successful NUMA node read from SysFS had negative value (-1), but there must be at least one NUMA node, so returning NUMA node zero\n",
      "2022-12-31 23:37:22.971758: I tensorflow/stream_executor/cuda/cuda_gpu_executor.cc:937] successful NUMA node read from SysFS had negative value (-1), but there must be at least one NUMA node, so returning NUMA node zero\n",
      "2022-12-31 23:37:22.972493: I tensorflow/stream_executor/cuda/cuda_gpu_executor.cc:937] successful NUMA node read from SysFS had negative value (-1), but there must be at least one NUMA node, so returning NUMA node zero\n",
      "2022-12-31 23:37:22.973248: I tensorflow/stream_executor/cuda/cuda_gpu_executor.cc:937] successful NUMA node read from SysFS had negative value (-1), but there must be at least one NUMA node, so returning NUMA node zero\n",
      "2022-12-31 23:37:22.973928: I tensorflow/core/common_runtime/gpu/gpu_device.cc:1510] Created device /job:localhost/replica:0/task:0/device:GPU:0 with 13789 MB memory:  -> device: 0, name: Tesla T4, pci bus id: 0000:00:04.0, compute capability: 7.5\n",
      "2022-12-31 23:37:22.978564: I tensorflow/stream_executor/cuda/cuda_gpu_executor.cc:937] successful NUMA node read from SysFS had negative value (-1), but there must be at least one NUMA node, so returning NUMA node zero\n",
      "2022-12-31 23:37:22.979278: I tensorflow/core/common_runtime/gpu/gpu_device.cc:1510] Created device /job:localhost/replica:0/task:0/device:GPU:1 with 13789 MB memory:  -> device: 1, name: Tesla T4, pci bus id: 0000:00:05.0, compute capability: 7.5\n"
     ]
    }
   ],
   "source": [
    "m_url = 'https://tfhub.dev/tensorflow/bert_en_uncased_L-12_H-768_A-12/2'\n",
    "bert_layer = hub.KerasLayer(m_url, trainable=True)"
   ]
  },
  {
   "cell_type": "markdown",
   "id": "346f2a41",
   "metadata": {
    "papermill": {
     "duration": 0.008465,
     "end_time": "2022-12-31T23:37:28.127414",
     "exception": false,
     "start_time": "2022-12-31T23:37:28.118949",
     "status": "completed"
    },
    "tags": []
   },
   "source": [
    "**Encoding the text**"
   ]
  },
  {
   "cell_type": "markdown",
   "id": "dfa5ba7a",
   "metadata": {
    "papermill": {
     "duration": 0.007918,
     "end_time": "2022-12-31T23:37:28.143483",
     "exception": false,
     "start_time": "2022-12-31T23:37:28.135565",
     "status": "completed"
    },
    "tags": []
   },
   "source": [
    "we create a BERT vocab_file in the form a numpy array. We then set the text to lowercase and finally we pass our vocab_file and do_lower_case variables to the Tokenizer object."
   ]
  },
  {
   "cell_type": "code",
   "execution_count": 13,
   "id": "91277fda",
   "metadata": {
    "execution": {
     "iopub.execute_input": "2022-12-31T23:37:28.161502Z",
     "iopub.status.busy": "2022-12-31T23:37:28.161150Z",
     "iopub.status.idle": "2022-12-31T23:37:28.165497Z",
     "shell.execute_reply": "2022-12-31T23:37:28.164392Z"
    },
    "papermill": {
     "duration": 0.016226,
     "end_time": "2022-12-31T23:37:28.167779",
     "exception": false,
     "start_time": "2022-12-31T23:37:28.151553",
     "status": "completed"
    },
    "tags": []
   },
   "outputs": [],
   "source": [
    "# pip uninstall bert-for-tf2"
   ]
  },
  {
   "cell_type": "code",
   "execution_count": 14,
   "id": "a0ab7f55",
   "metadata": {
    "execution": {
     "iopub.execute_input": "2022-12-31T23:37:28.187344Z",
     "iopub.status.busy": "2022-12-31T23:37:28.187082Z",
     "iopub.status.idle": "2022-12-31T23:37:43.193832Z",
     "shell.execute_reply": "2022-12-31T23:37:43.192359Z"
    },
    "papermill": {
     "duration": 15.020475,
     "end_time": "2022-12-31T23:37:43.196392",
     "exception": false,
     "start_time": "2022-12-31T23:37:28.175917",
     "status": "completed"
    },
    "tags": []
   },
   "outputs": [
    {
     "name": "stdout",
     "output_type": "stream",
     "text": [
      "Collecting bert-for-tf2\r\n",
      "  Downloading bert-for-tf2-0.14.9.tar.gz (41 kB)\r\n",
      "\u001b[2K     \u001b[90m━━━━━━━━━━━━━━━━━━━━━━━━━━━━━━━━━━━━━━━━\u001b[0m \u001b[32m41.2/41.2 kB\u001b[0m \u001b[31m1.0 MB/s\u001b[0m eta \u001b[36m0:00:00\u001b[0m\r\n",
      "\u001b[?25h  Preparing metadata (setup.py) ... \u001b[?25l-\b \bdone\r\n",
      "\u001b[?25hCollecting py-params>=0.9.6\r\n",
      "  Downloading py-params-0.10.2.tar.gz (7.4 kB)\r\n",
      "  Preparing metadata (setup.py) ... \u001b[?25l-\b \bdone\r\n",
      "\u001b[?25hCollecting params-flow>=0.8.0\r\n",
      "  Downloading params-flow-0.8.2.tar.gz (22 kB)\r\n",
      "  Preparing metadata (setup.py) ... \u001b[?25l-\b \bdone\r\n",
      "\u001b[?25hRequirement already satisfied: numpy in /opt/conda/lib/python3.7/site-packages (from params-flow>=0.8.0->bert-for-tf2) (1.21.6)\r\n",
      "Requirement already satisfied: tqdm in /opt/conda/lib/python3.7/site-packages (from params-flow>=0.8.0->bert-for-tf2) (4.64.0)\r\n",
      "Building wheels for collected packages: bert-for-tf2, params-flow, py-params\r\n",
      "  Building wheel for bert-for-tf2 (setup.py) ... \u001b[?25l-\b \b\\\b \bdone\r\n",
      "\u001b[?25h  Created wheel for bert-for-tf2: filename=bert_for_tf2-0.14.9-py3-none-any.whl size=30535 sha256=77ad5dfcbe8de3b73af857a033af0d462bfe9d65728e36e46841354065940d37\r\n",
      "  Stored in directory: /root/.cache/pip/wheels/47/b6/e5/8c76ec779f54bc5c2f1b57d2200bb9c77616da83873e8acb53\r\n",
      "  Building wheel for params-flow (setup.py) ... \u001b[?25l-\b \b\\\b \bdone\r\n",
      "\u001b[?25h  Created wheel for params-flow: filename=params_flow-0.8.2-py3-none-any.whl size=19472 sha256=b5979f85dd6bfb77c429e420c4fa5d6ed4d72b2192b5bf442a191b6af5a0ff11\r\n",
      "  Stored in directory: /root/.cache/pip/wheels/0e/fc/d2/a44fff33af0f233d7def6e7de413006d57c10e10ad736fe8f5\r\n",
      "  Building wheel for py-params (setup.py) ... \u001b[?25l-\b \b\\\b \bdone\r\n",
      "\u001b[?25h  Created wheel for py-params: filename=py_params-0.10.2-py3-none-any.whl size=7911 sha256=464e383578fad879b4d21c7e27624448d11417967abdf5bd2c4975ed42b379e0\r\n",
      "  Stored in directory: /root/.cache/pip/wheels/e1/11/67/33cc51bbee127cb8fb2ba549cd29109b2f22da43ddf9969716\r\n",
      "Successfully built bert-for-tf2 params-flow py-params\r\n",
      "Installing collected packages: py-params, params-flow, bert-for-tf2\r\n",
      "Successfully installed bert-for-tf2-0.14.9 params-flow-0.8.2 py-params-0.10.2\r\n",
      "\u001b[33mWARNING: Running pip as the 'root' user can result in broken permissions and conflicting behaviour with the system package manager. It is recommended to use a virtual environment instead: https://pip.pypa.io/warnings/venv\u001b[0m\u001b[33m\r\n",
      "\u001b[0mNote: you may need to restart the kernel to use updated packages.\n"
     ]
    }
   ],
   "source": [
    "pip install bert-for-tf2"
   ]
  },
  {
   "cell_type": "code",
   "execution_count": 15,
   "id": "004b5ce5",
   "metadata": {
    "execution": {
     "iopub.execute_input": "2022-12-31T23:37:43.218801Z",
     "iopub.status.busy": "2022-12-31T23:37:43.218461Z",
     "iopub.status.idle": "2022-12-31T23:37:43.240088Z",
     "shell.execute_reply": "2022-12-31T23:37:43.239024Z"
    },
    "papermill": {
     "duration": 0.035399,
     "end_time": "2022-12-31T23:37:43.242449",
     "exception": false,
     "start_time": "2022-12-31T23:37:43.207050",
     "status": "completed"
    },
    "tags": []
   },
   "outputs": [],
   "source": [
    "from bert import bert_tokenization"
   ]
  },
  {
   "cell_type": "code",
   "execution_count": 16,
   "id": "b5a06a06",
   "metadata": {
    "execution": {
     "iopub.execute_input": "2022-12-31T23:37:43.264838Z",
     "iopub.status.busy": "2022-12-31T23:37:43.263965Z",
     "iopub.status.idle": "2022-12-31T23:37:43.367075Z",
     "shell.execute_reply": "2022-12-31T23:37:43.366072Z"
    },
    "papermill": {
     "duration": 0.116954,
     "end_time": "2022-12-31T23:37:43.369572",
     "exception": false,
     "start_time": "2022-12-31T23:37:43.252618",
     "status": "completed"
    },
    "tags": []
   },
   "outputs": [],
   "source": [
    "tokenizer = bert_tokenization.FullTokenizer(\n",
    "        vocab_file= bert_layer.resolved_object.vocab_file.asset_path.numpy(), \n",
    "        do_lower_case=bert_layer.resolved_object.do_lower_case.numpy()\n",
    "    )\n"
   ]
  },
  {
   "cell_type": "code",
   "execution_count": 17,
   "id": "480a856e",
   "metadata": {
    "execution": {
     "iopub.execute_input": "2022-12-31T23:37:43.391411Z",
     "iopub.status.busy": "2022-12-31T23:37:43.389910Z",
     "iopub.status.idle": "2022-12-31T23:37:43.398617Z",
     "shell.execute_reply": "2022-12-31T23:37:43.397734Z"
    },
    "papermill": {
     "duration": 0.02128,
     "end_time": "2022-12-31T23:37:43.400544",
     "exception": false,
     "start_time": "2022-12-31T23:37:43.379264",
     "status": "completed"
    },
    "tags": []
   },
   "outputs": [],
   "source": [
    "\n",
    "# vocab_file = bert_layer.resolved_object.vocab_file.asset_path.numpy()\n",
    "# do_lower_case = bert_layer.resolved_object.do_lower_case.numpy()\n",
    "# tokenizer = tokenization.FullTokenizer(vocab_file, do_lower_case)\n",
    "\n",
    "def bert_encode(texts, tokenizer, max_len=512):\n",
    "    all_tokens = []\n",
    "    all_masks = []\n",
    "    all_segments = []\n",
    "    \n",
    "    for text in texts:\n",
    "        text = tokenizer.tokenize(text)\n",
    "        \n",
    "        text = text[:max_len-2]\n",
    "        input_sequence = [\"[CLS]\"] + text + [\"[SEP]\"]\n",
    "        pad_len = max_len-len(input_sequence)\n",
    "        \n",
    "        tokens = tokenizer.convert_tokens_to_ids(input_sequence) + [0] * pad_len\n",
    "        pad_masks = [1] * len(input_sequence) + [0] * pad_len\n",
    "        segment_ids = [0] * max_len\n",
    "        \n",
    "        all_tokens.append(tokens)\n",
    "        all_masks.append(pad_masks)\n",
    "        all_segments.append(segment_ids)\n",
    "        \n",
    "    return np.array(all_tokens), np.array(all_masks), np.array(all_segments)"
   ]
  },
  {
   "cell_type": "code",
   "execution_count": 18,
   "id": "480092fc",
   "metadata": {
    "execution": {
     "iopub.execute_input": "2022-12-31T23:37:43.420828Z",
     "iopub.status.busy": "2022-12-31T23:37:43.419949Z",
     "iopub.status.idle": "2022-12-31T23:37:43.428564Z",
     "shell.execute_reply": "2022-12-31T23:37:43.427716Z"
    },
    "papermill": {
     "duration": 0.020683,
     "end_time": "2022-12-31T23:37:43.430541",
     "exception": false,
     "start_time": "2022-12-31T23:37:43.409858",
     "status": "completed"
    },
    "tags": []
   },
   "outputs": [],
   "source": [
    "def build_model(bert_layer, max_len=512):\n",
    "    input_word_ids = tf.keras.Input(shape=(max_len,), dtype=tf.int32, name=\"input_word_ids\")\n",
    "    input_mask = tf.keras.Input(shape=(max_len,), dtype=tf.int32, name=\"input_mask\")\n",
    "    segment_ids = tf.keras.Input(shape=(max_len,), dtype=tf.int32, name=\"segment_ids\")\n",
    "    \n",
    "    pooled_output, sequence_output = bert_layer([input_word_ids, input_mask, segment_ids])\n",
    "    \n",
    "    clf_output = sequence_output[:, 0, :]\n",
    "    \n",
    "    lay = tf.keras.layers.Dense(64, activation='relu')(clf_output)\n",
    "    lay = tf.keras.layers.Dropout(0.2)(lay)\n",
    "    lay = tf.keras.layers.Dense(32, activation='relu')(lay)\n",
    "    lay = tf.keras.layers.Dropout(0.2)(lay)\n",
    "    out = tf.keras.layers.Dense(1, activation='sigmoid')(lay)\n",
    "    \n",
    "    model = tf.keras.models.Model(inputs=[input_word_ids, input_mask, segment_ids], outputs=out)\n",
    "    model.compile(tf.keras.optimizers.Adam(lr=2e-5), loss='binary_crossentropy', metrics=['accuracy'])\n",
    "    \n",
    "    return model"
   ]
  },
  {
   "cell_type": "markdown",
   "id": "f2acf33c",
   "metadata": {
    "papermill": {
     "duration": 0.00918,
     "end_time": "2022-12-31T23:37:43.448973",
     "exception": false,
     "start_time": "2022-12-31T23:37:43.439793",
     "status": "completed"
    },
    "tags": []
   },
   "source": [
    "Here We check only the first 250 characters of each text, and also we set train-test input and train labels"
   ]
  },
  {
   "cell_type": "code",
   "execution_count": 19,
   "id": "00b125bd",
   "metadata": {
    "execution": {
     "iopub.execute_input": "2022-12-31T23:37:43.469452Z",
     "iopub.status.busy": "2022-12-31T23:37:43.468629Z",
     "iopub.status.idle": "2022-12-31T23:38:00.692113Z",
     "shell.execute_reply": "2022-12-31T23:38:00.691024Z"
    },
    "papermill": {
     "duration": 17.236305,
     "end_time": "2022-12-31T23:38:00.694617",
     "exception": false,
     "start_time": "2022-12-31T23:37:43.458312",
     "status": "completed"
    },
    "tags": []
   },
   "outputs": [],
   "source": [
    "max_len = 250\n",
    "train_input = bert_encode(train_data.headline.values, tokenizer, max_len=max_len)\n",
    "test_input = bert_encode(test_data.headline.values, tokenizer, max_len=max_len)\n",
    "train_labels = y"
   ]
  },
  {
   "cell_type": "code",
   "execution_count": 20,
   "id": "e671d650",
   "metadata": {
    "execution": {
     "iopub.execute_input": "2022-12-31T23:38:00.716576Z",
     "iopub.status.busy": "2022-12-31T23:38:00.716267Z",
     "iopub.status.idle": "2022-12-31T23:38:00.721371Z",
     "shell.execute_reply": "2022-12-31T23:38:00.720501Z"
    },
    "papermill": {
     "duration": 0.01808,
     "end_time": "2022-12-31T23:38:00.723289",
     "exception": false,
     "start_time": "2022-12-31T23:38:00.705209",
     "status": "completed"
    },
    "tags": []
   },
   "outputs": [],
   "source": [
    "# labels = label.classes_\n",
    "# print(labels)"
   ]
  },
  {
   "cell_type": "code",
   "execution_count": 21,
   "id": "90395be5",
   "metadata": {
    "execution": {
     "iopub.execute_input": "2022-12-31T23:38:00.743430Z",
     "iopub.status.busy": "2022-12-31T23:38:00.742766Z",
     "iopub.status.idle": "2022-12-31T23:38:01.433932Z",
     "shell.execute_reply": "2022-12-31T23:38:01.432869Z"
    },
    "papermill": {
     "duration": 0.704418,
     "end_time": "2022-12-31T23:38:01.436920",
     "exception": false,
     "start_time": "2022-12-31T23:38:00.732502",
     "status": "completed"
    },
    "tags": []
   },
   "outputs": [
    {
     "name": "stdout",
     "output_type": "stream",
     "text": [
      "Model: \"model\"\n",
      "__________________________________________________________________________________________________\n",
      "Layer (type)                    Output Shape         Param #     Connected to                     \n",
      "==================================================================================================\n",
      "input_word_ids (InputLayer)     [(None, 250)]        0                                            \n",
      "__________________________________________________________________________________________________\n",
      "input_mask (InputLayer)         [(None, 250)]        0                                            \n",
      "__________________________________________________________________________________________________\n",
      "segment_ids (InputLayer)        [(None, 250)]        0                                            \n",
      "__________________________________________________________________________________________________\n",
      "keras_layer (KerasLayer)        [(None, 768), (None, 109482241   input_word_ids[0][0]             \n",
      "                                                                 input_mask[0][0]                 \n",
      "                                                                 segment_ids[0][0]                \n",
      "__________________________________________________________________________________________________\n",
      "tf.__operators__.getitem (Slici (None, 768)          0           keras_layer[0][1]                \n",
      "__________________________________________________________________________________________________\n",
      "dense (Dense)                   (None, 64)           49216       tf.__operators__.getitem[0][0]   \n",
      "__________________________________________________________________________________________________\n",
      "dropout (Dropout)               (None, 64)           0           dense[0][0]                      \n",
      "__________________________________________________________________________________________________\n",
      "dense_1 (Dense)                 (None, 32)           2080        dropout[0][0]                    \n",
      "__________________________________________________________________________________________________\n",
      "dropout_1 (Dropout)             (None, 32)           0           dense_1[0][0]                    \n",
      "__________________________________________________________________________________________________\n",
      "dense_2 (Dense)                 (None, 1)            33          dropout_1[0][0]                  \n",
      "==================================================================================================\n",
      "Total params: 109,533,570\n",
      "Trainable params: 109,533,569\n",
      "Non-trainable params: 1\n",
      "__________________________________________________________________________________________________\n"
     ]
    },
    {
     "name": "stderr",
     "output_type": "stream",
     "text": [
      "/opt/conda/lib/python3.7/site-packages/keras/optimizer_v2/optimizer_v2.py:356: UserWarning: The `lr` argument is deprecated, use `learning_rate` instead.\n",
      "  \"The `lr` argument is deprecated, use `learning_rate` instead.\")\n"
     ]
    }
   ],
   "source": [
    "model = build_model(bert_layer, max_len=max_len)\n",
    "model.summary()"
   ]
  },
  {
   "cell_type": "markdown",
   "id": "a7296206",
   "metadata": {
    "papermill": {
     "duration": 0.00916,
     "end_time": "2022-12-31T23:38:01.455967",
     "exception": false,
     "start_time": "2022-12-31T23:38:01.446807",
     "status": "completed"
    },
    "tags": []
   },
   "source": [
    "**Run the model**"
   ]
  },
  {
   "cell_type": "code",
   "execution_count": 22,
   "id": "26d009b7",
   "metadata": {
    "execution": {
     "iopub.execute_input": "2022-12-31T23:38:01.476278Z",
     "iopub.status.busy": "2022-12-31T23:38:01.475986Z",
     "iopub.status.idle": "2023-01-01T00:54:19.768977Z",
     "shell.execute_reply": "2023-01-01T00:54:19.767883Z"
    },
    "papermill": {
     "duration": 4578.566945,
     "end_time": "2023-01-01T00:54:20.032527",
     "exception": false,
     "start_time": "2022-12-31T23:38:01.465582",
     "status": "completed"
    },
    "tags": []
   },
   "outputs": [
    {
     "name": "stderr",
     "output_type": "stream",
     "text": [
      "2022-12-31 23:38:01.883182: I tensorflow/compiler/mlir/mlir_graph_optimization_pass.cc:185] None of the MLIR Optimization Passes are enabled (registered 2)\n"
     ]
    },
    {
     "name": "stdout",
     "output_type": "stream",
     "text": [
      "Epoch 1/6\n",
      "830/830 [==============================] - 771s 910ms/step - loss: 0.3136 - accuracy: 0.8699 - val_loss: 0.1970 - val_accuracy: 0.9214\n",
      "\n",
      "Epoch 00001: val_accuracy improved from -inf to 0.92139, saving model to model.h5\n",
      "Epoch 2/6\n",
      "830/830 [==============================] - 760s 915ms/step - loss: 0.1288 - accuracy: 0.9543 - val_loss: 0.1902 - val_accuracy: 0.9265\n",
      "\n",
      "Epoch 00002: val_accuracy improved from 0.92139 to 0.92651, saving model to model.h5\n",
      "Epoch 3/6\n",
      "830/830 [==============================] - 759s 915ms/step - loss: 0.0577 - accuracy: 0.9791 - val_loss: 0.3064 - val_accuracy: 0.9235\n",
      "\n",
      "Epoch 00003: val_accuracy did not improve from 0.92651\n",
      "Epoch 4/6\n",
      "830/830 [==============================] - 759s 915ms/step - loss: 0.0302 - accuracy: 0.9908 - val_loss: 0.4082 - val_accuracy: 0.9229\n",
      "\n",
      "Epoch 00004: val_accuracy did not improve from 0.92651\n",
      "Epoch 5/6\n",
      "830/830 [==============================] - 760s 915ms/step - loss: 0.0236 - accuracy: 0.9924 - val_loss: 0.2371 - val_accuracy: 0.9358\n",
      "\n",
      "Epoch 00005: val_accuracy improved from 0.92651 to 0.93584, saving model to model.h5\n",
      "Epoch 6/6\n",
      "830/830 [==============================] - 760s 915ms/step - loss: 0.0156 - accuracy: 0.9962 - val_loss: 0.4768 - val_accuracy: 0.9283\n",
      "\n",
      "Epoch 00006: val_accuracy did not improve from 0.93584\n"
     ]
    }
   ],
   "source": [
    "checkpoint = tf.keras.callbacks.ModelCheckpoint('model.h5', monitor='val_accuracy', save_best_only=True, verbose=1)\n",
    "earlystopping = tf.keras.callbacks.EarlyStopping(monitor='val_accuracy', patience=5, verbose=1)\n",
    "\n",
    "train_sh = model.fit(\n",
    "    train_input, train_labels,\n",
    "    validation_split=0.2,\n",
    "    epochs=6,\n",
    "    callbacks=[checkpoint, earlystopping],\n",
    "    batch_size=16,\n",
    "    verbose=1\n",
    ")"
   ]
  },
  {
   "cell_type": "code",
   "execution_count": 23,
   "id": "bf5c95f2",
   "metadata": {
    "execution": {
     "iopub.execute_input": "2023-01-01T00:54:20.608578Z",
     "iopub.status.busy": "2023-01-01T00:54:20.608229Z",
     "iopub.status.idle": "2023-01-01T01:06:09.534322Z",
     "shell.execute_reply": "2023-01-01T01:06:09.533237Z"
    },
    "papermill": {
     "duration": 709.240823,
     "end_time": "2023-01-01T01:06:09.537052",
     "exception": false,
     "start_time": "2023-01-01T00:54:20.296229",
     "status": "completed"
    },
    "tags": []
   },
   "outputs": [
    {
     "name": "stdout",
     "output_type": "stream",
     "text": [
      "1211/1211 [==============================] - 709s 585ms/step\n"
     ]
    }
   ],
   "source": [
    "test_pred = model.predict(test_input,verbose = 1)"
   ]
  },
  {
   "cell_type": "code",
   "execution_count": 24,
   "id": "e1b21ff0",
   "metadata": {
    "execution": {
     "iopub.execute_input": "2023-01-01T01:06:10.219559Z",
     "iopub.status.busy": "2023-01-01T01:06:10.219206Z",
     "iopub.status.idle": "2023-01-01T01:06:10.227158Z",
     "shell.execute_reply": "2023-01-01T01:06:10.226151Z"
    },
    "papermill": {
     "duration": 0.332783,
     "end_time": "2023-01-01T01:06:10.229070",
     "exception": false,
     "start_time": "2023-01-01T01:06:09.896287",
     "status": "completed"
    },
    "tags": []
   },
   "outputs": [
    {
     "data": {
      "text/plain": [
       "array([[1],\n",
       "       [0],\n",
       "       [0],\n",
       "       ...,\n",
       "       [0],\n",
       "       [1],\n",
       "       [1]])"
      ]
     },
     "execution_count": 24,
     "metadata": {},
     "output_type": "execute_result"
    }
   ],
   "source": [
    "y_pred=test_pred.round().astype(int)\n",
    "y_pred"
   ]
  },
  {
   "cell_type": "code",
   "execution_count": 25,
   "id": "44527e8f",
   "metadata": {
    "execution": {
     "iopub.execute_input": "2023-01-01T01:06:10.876001Z",
     "iopub.status.busy": "2023-01-01T01:06:10.874899Z",
     "iopub.status.idle": "2023-01-01T01:06:10.880743Z",
     "shell.execute_reply": "2023-01-01T01:06:10.879886Z"
    },
    "papermill": {
     "duration": 0.328704,
     "end_time": "2023-01-01T01:06:10.882771",
     "exception": false,
     "start_time": "2023-01-01T01:06:10.554067",
     "status": "completed"
    },
    "tags": []
   },
   "outputs": [],
   "source": [
    "submission = pd.DataFrame(y_pred, columns=['target'])"
   ]
  },
  {
   "cell_type": "code",
   "execution_count": 26,
   "id": "379a66c7",
   "metadata": {
    "execution": {
     "iopub.execute_input": "2023-01-01T01:06:11.574550Z",
     "iopub.status.busy": "2023-01-01T01:06:11.574184Z",
     "iopub.status.idle": "2023-01-01T01:06:11.616793Z",
     "shell.execute_reply": "2023-01-01T01:06:11.615814Z"
    },
    "papermill": {
     "duration": 0.416944,
     "end_time": "2023-01-01T01:06:11.618799",
     "exception": false,
     "start_time": "2023-01-01T01:06:11.201855",
     "status": "completed"
    },
    "tags": []
   },
   "outputs": [
    {
     "data": {
      "text/html": [
       "<div>\n",
       "<style scoped>\n",
       "    .dataframe tbody tr th:only-of-type {\n",
       "        vertical-align: middle;\n",
       "    }\n",
       "\n",
       "    .dataframe tbody tr th {\n",
       "        vertical-align: top;\n",
       "    }\n",
       "\n",
       "    .dataframe thead th {\n",
       "        text-align: right;\n",
       "    }\n",
       "</style>\n",
       "<table border=\"1\" class=\"dataframe\">\n",
       "  <thead>\n",
       "    <tr style=\"text-align: right;\">\n",
       "      <th></th>\n",
       "      <th>target</th>\n",
       "    </tr>\n",
       "  </thead>\n",
       "  <tbody>\n",
       "    <tr>\n",
       "      <th>0</th>\n",
       "      <td>1</td>\n",
       "    </tr>\n",
       "    <tr>\n",
       "      <th>1</th>\n",
       "      <td>0</td>\n",
       "    </tr>\n",
       "    <tr>\n",
       "      <th>2</th>\n",
       "      <td>0</td>\n",
       "    </tr>\n",
       "    <tr>\n",
       "      <th>3</th>\n",
       "      <td>1</td>\n",
       "    </tr>\n",
       "    <tr>\n",
       "      <th>4</th>\n",
       "      <td>1</td>\n",
       "    </tr>\n",
       "  </tbody>\n",
       "</table>\n",
       "</div>"
      ],
      "text/plain": [
       "   target\n",
       "0       1\n",
       "1       0\n",
       "2       0\n",
       "3       1\n",
       "4       1"
      ]
     },
     "execution_count": 26,
     "metadata": {},
     "output_type": "execute_result"
    }
   ],
   "source": [
    "submission.to_csv('submission.csv', index=False)\n",
    "submission.head()"
   ]
  },
  {
   "cell_type": "code",
   "execution_count": 27,
   "id": "cc8e04b4",
   "metadata": {
    "execution": {
     "iopub.execute_input": "2023-01-01T01:06:12.280965Z",
     "iopub.status.busy": "2023-01-01T01:06:12.280097Z",
     "iopub.status.idle": "2023-01-01T01:06:12.287450Z",
     "shell.execute_reply": "2023-01-01T01:06:12.286254Z"
    },
    "papermill": {
     "duration": 0.33144,
     "end_time": "2023-01-01T01:06:12.289497",
     "exception": false,
     "start_time": "2023-01-01T01:06:11.958057",
     "status": "completed"
    },
    "tags": []
   },
   "outputs": [
    {
     "name": "stdout",
     "output_type": "stream",
     "text": [
      "18487    1\n",
      "21479    0\n",
      "22860    0\n",
      "4200     1\n",
      "7400     1\n",
      "Name: is_sarcastic, dtype: int64\n"
     ]
    }
   ],
   "source": [
    "y_test = test_data['is_sarcastic']\n",
    "print(y_test[:5])"
   ]
  },
  {
   "cell_type": "code",
   "execution_count": 28,
   "id": "067ab699",
   "metadata": {
    "execution": {
     "iopub.execute_input": "2023-01-01T01:06:12.926128Z",
     "iopub.status.busy": "2023-01-01T01:06:12.925680Z",
     "iopub.status.idle": "2023-01-01T01:06:13.030777Z",
     "shell.execute_reply": "2023-01-01T01:06:13.029764Z"
    },
    "papermill": {
     "duration": 0.426055,
     "end_time": "2023-01-01T01:06:13.032949",
     "exception": false,
     "start_time": "2023-01-01T01:06:12.606894",
     "status": "completed"
    },
    "tags": []
   },
   "outputs": [
    {
     "data": {
      "text/plain": [
       "0.9280126003769785"
      ]
     },
     "execution_count": 28,
     "metadata": {},
     "output_type": "execute_result"
    }
   ],
   "source": [
    "from sklearn.metrics import accuracy_score\n",
    "accuracy_score(y_test,y_pred)"
   ]
  },
  {
   "cell_type": "code",
   "execution_count": 29,
   "id": "a14a3e2c",
   "metadata": {
    "execution": {
     "iopub.execute_input": "2023-01-01T01:06:13.677701Z",
     "iopub.status.busy": "2023-01-01T01:06:13.677334Z",
     "iopub.status.idle": "2023-01-01T01:06:13.736041Z",
     "shell.execute_reply": "2023-01-01T01:06:13.734875Z"
    },
    "papermill": {
     "duration": 0.381671,
     "end_time": "2023-01-01T01:06:13.738193",
     "exception": false,
     "start_time": "2023-01-01T01:06:13.356522",
     "status": "completed"
    },
    "tags": []
   },
   "outputs": [
    {
     "name": "stdout",
     "output_type": "stream",
     "text": [
      "              precision    recall  f1-score   support\n",
      "\n",
      "           0       0.90      0.97      0.94     21049\n",
      "           1       0.96      0.88      0.92     17680\n",
      "\n",
      "    accuracy                           0.93     38729\n",
      "   macro avg       0.93      0.92      0.93     38729\n",
      "weighted avg       0.93      0.93      0.93     38729\n",
      "\n"
     ]
    }
   ],
   "source": [
    "from sklearn.metrics import classification_report\n",
    "\n",
    "print(classification_report(y_test, y_pred))"
   ]
  },
  {
   "cell_type": "code",
   "execution_count": 30,
   "id": "50586097",
   "metadata": {
    "execution": {
     "iopub.execute_input": "2023-01-01T01:06:14.451776Z",
     "iopub.status.busy": "2023-01-01T01:06:14.450762Z",
     "iopub.status.idle": "2023-01-01T01:06:14.463224Z",
     "shell.execute_reply": "2023-01-01T01:06:14.462250Z"
    },
    "papermill": {
     "duration": 0.396807,
     "end_time": "2023-01-01T01:06:14.465235",
     "exception": false,
     "start_time": "2023-01-01T01:06:14.068428",
     "status": "completed"
    },
    "tags": []
   },
   "outputs": [
    {
     "data": {
      "text/plain": [
       "array([[20424,   625],\n",
       "       [ 2163, 15517]])"
      ]
     },
     "execution_count": 30,
     "metadata": {},
     "output_type": "execute_result"
    }
   ],
   "source": [
    "from sklearn.metrics import confusion_matrix\n",
    "cm = confusion_matrix(y_test, y_pred)\n",
    "cm"
   ]
  },
  {
   "cell_type": "code",
   "execution_count": 31,
   "id": "f8e2b402",
   "metadata": {
    "execution": {
     "iopub.execute_input": "2023-01-01T01:06:15.140751Z",
     "iopub.status.busy": "2023-01-01T01:06:15.140400Z",
     "iopub.status.idle": "2023-01-01T01:06:15.693406Z",
     "shell.execute_reply": "2023-01-01T01:06:15.692403Z"
    },
    "papermill": {
     "duration": 0.8848,
     "end_time": "2023-01-01T01:06:15.695533",
     "exception": false,
     "start_time": "2023-01-01T01:06:14.810733",
     "status": "completed"
    },
    "tags": []
   },
   "outputs": [
    {
     "data": {
      "text/plain": [
       "Text(42.0, 0.5, 'Truth')"
      ]
     },
     "execution_count": 31,
     "metadata": {},
     "output_type": "execute_result"
    },
    {
     "data": {
      "image/png": "[encoded data removed]",
      "text/plain": [
       "<Figure size 504x360 with 2 Axes>"
      ]
     },
     "metadata": {
      "needs_background": "light"
     },
     "output_type": "display_data"
    }
   ],
   "source": [
    "%matplotlib inline\n",
    "import matplotlib.pyplot as plt\n",
    "import seaborn as sn\n",
    "plt.figure(figsize=(7,5))\n",
    "sn.heatmap(cm, annot=True)\n",
    "plt.xlabel('Predicted')\n",
    "plt.ylabel('Truth')"
   ]
  }
 ],
 "metadata": {
  "kernelspec": {
   "display_name": "Python 3",
   "language": "python",
   "name": "python3"
  },
  "language_info": {
   "codemirror_mode": {
    "name": "ipython",
    "version": 3
   },
   "file_extension": ".py",
   "mimetype": "text/x-python",
   "name": "python",
   "nbconvert_exporter": "python",
   "pygments_lexer": "ipython3",
   "version": "3.7.12"
  },
  "papermill": {
   "default_parameters": {},
   "duration": 5385.029721,
   "end_time": "2023-01-01T01:06:19.627933",
   "environment_variables": {},
   "exception": null,
   "input_path": "__notebook__.ipynb",
   "output_path": "__notebook__.ipynb",
   "parameters": {},
   "start_time": "2022-12-31T23:36:34.598212",
   "version": "2.3.4"
  }
 },
 "nbformat": 4,
 "nbformat_minor": 5
}
